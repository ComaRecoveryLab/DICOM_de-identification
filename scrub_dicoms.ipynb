{
 "cells": [
  {
   "cell_type": "code",
   "execution_count": 6,
   "id": "820ca983-eb1a-46b3-a08d-d470720af1ef",
   "metadata": {},
   "outputs": [],
   "source": [
    "import argparse\n",
    "import os\n",
    "import json\n",
    "import random\n",
    "import string\n",
    "\n",
    "import pydicom as dcm"
   ]
  },
  {
   "cell_type": "code",
   "execution_count": 3,
   "id": "47e03037-4c16-4a98-ae9b-6bec3611bdbe",
   "metadata": {},
   "outputs": [],
   "source": [
    "def vr_scrub(vr):\n",
    "    if vr in [\"LO\", \"SH\", \"PN\", \"LT\", \"ST\", \"UT\", \"DA\", \"TM\", \"DT\", \"CS\", \"UI\"]:\n",
    "        # The VR is a string type, so convert the new value to a string\n",
    "        return('REDACTED')\n",
    "    elif vr in  [\"IS\", \"SL\", \"SS\", \"UL\", \"US\"]:\n",
    "        # The VR is an integer type, so convert the new value to an integer\n",
    "        return(0)\n",
    "    elif vr in [\"DS\", \"FD\", \"FL\"]:\n",
    "        # The VR is a decimal type, so convert the new value to a float\n",
    "        return(0.0)\n",
    "    elif vr in [\"OB\", \"OW\", \"UN\"]:\n",
    "        # The VR is other byte, so convert the new value to bytes\n",
    "        return(bytes('REDACTED', 'utf-8'))\n",
    "    else:\n",
    "        print(f\"The tag {tag} has VR {vr}, which is not handled by this function.\")"
   ]
  },
  {
   "cell_type": "code",
   "execution_count": 4,
   "id": "92b9d628-94f2-43d8-ad4c-af630ed79751",
   "metadata": {},
   "outputs": [],
   "source": [
    "def remove_identifiers_from_dicom(dicom_file, subject_id=None):\n",
    "    \"\"\"\n",
    "    Removes identifying information from a DICOM file and optionally sets a new subject ID.\n",
    "\n",
    "    Args:\n",
    "        dicom_file (str): Path to the DICOM file.\n",
    "        subject_id (str, optional): New subject ID to assign. Defaults to None.\n",
    "    \"\"\"\n",
    "    dicom_data = dcm.dcmread(dicom_file)\n",
    "    \n",
    "    # Extract DICOM metadata for filename\n",
    "    modality = dicom_data.get(\"Modality\",\"NA\")\n",
    "    seriesInstanceUID = dicom_data.get(\"SeriesInstanceUID\",\"NA\")\n",
    "    instanceNumber = str(dicom_data.get(\"InstanceNumber\",\"0\"))\n",
    "\n",
    "    # Generate a new filename based on DICOM metadata and a random suffix (sometimes two dicoms will have the same UID and instance number)\n",
    "    filename = dicom_file.split('/')[-1]\n",
    "    new_filename = modality + \".\" + seriesInstanceUID + \".\" + instanceNumber + \".\" + ''.join(random.choices(string.ascii_uppercase + string.digits, k=6)) + \".dcm\"\n",
    "    \n",
    "    # Iterate through fields to scrub, specified by the scrub_fields.json file\n",
    "    for field in scrub_fields:\n",
    "        # Convert hexadecimal values to integers\n",
    "        x, y = map(lambda val: int(val, base=16), field.split(\",\"))\n",
    "    \n",
    "        # Check if field exists in DICOM data\n",
    "        if (x, y) in dicom_data:\n",
    "            # Get value representation of the field\n",
    "            value_rep = dicom_data[(x, y)].VR\n",
    "            # Scrub the value\n",
    "            dicom_data[(x, y)].value = vr_scrub(value_rep)\n",
    "    \n",
    "    # Assign new subject ID if provided\n",
    "    if subject_id:\n",
    "        dicom_data.PatientID = subject_id\n",
    "                \n",
    "    # Save modified DICOM data to file and rename\n",
    "    dicom_data.save_as(dicom_file, write_like_original=False)\n",
    "    os.rename(dicom_file, dicom_file.replace(filename, new_filename))"
   ]
  },
  {
   "cell_type": "code",
   "execution_count": 5,
   "id": "68b4834e-facc-4826-a8b2-2ddf5460d24a",
   "metadata": {},
   "outputs": [],
   "source": [
    "def scrub_dicoms(session_path, subject_id=None):\n",
    "    dicom_number = 0\n",
    "    \n",
    "    # Iterate through all files and subdirectories within the session path\n",
    "    for path, subdirs, files in os.walk(session_path):\n",
    "\n",
    "        # Iterate through files ending with '.dcm'\n",
    "        for file in [dicom for dicom in files if dicom.endswith('.dcm')]:\n",
    "            \n",
    "            # Scrub DICOM file\n",
    "            remove_identifiers_from_dicom(dicom_file = os.path.join(path, file), subject_id=subject_id)\n",
    "            dicom_number += 1\n",
    "\n",
    "    print(f'{dicom_number} DICOM files scrubbed from the parent directory {session_path}\\n')"
   ]
  },
  {
   "cell_type": "code",
   "execution_count": null,
   "id": "d3da62fb-9b6c-4071-a154-c8d2809ba78c",
   "metadata": {},
   "outputs": [],
   "source": [
    "if __name__ == \"__main__\":\n",
    "\n",
    "    parser = argparse.ArgumentParser(description='Scrub identifying information from DICOM files.')\n",
    "    parser.add_argument('-p', '--session_directory', default='.', help='Path to the session directory containing DICOM files')\n",
    "    parser.add_argument('-id', '--subject_id', default=None, help='Subject ID to assign to DICOM header')\n",
    "    parser.add_argument('-c', '--dicom_field_config', default='./scrub_fields.json', help='Path to the JSON file containing fields to scrub')\n",
    "\n",
    "    # Parse arguments\n",
    "    args = parser.parse_args()\n",
    "\n",
    "    # Extract arguments\n",
    "    session_directory = args.session_directory\n",
    "    subject_id = args.subject_id\n",
    "    dicom_field_config = args.dicom_field_config\n",
    "\n",
    "    # Load scrub field configurations from JSON file\n",
    "    with open(dicom_field_config, 'r') as json_file:\n",
    "        scrub_field_dict = json.load(json_file)\n",
    "    \n",
    "    scrub_fields = list(scrub_field_dict.values())\n",
    "\n",
    "    # Scrub DICOM files\n",
    "    scrub_dicoms(session_path=session_directory, subject_id=subject_id)"
   ]
  }
 ],
 "metadata": {
  "kernelspec": {
   "display_name": "Python 3",
   "language": "python",
   "name": "python3"
  },
  "language_info": {
   "codemirror_mode": {
    "name": "ipython",
    "version": 3
   },
   "file_extension": ".py",
   "mimetype": "text/x-python",
   "name": "python",
   "nbconvert_exporter": "python",
   "pygments_lexer": "ipython3",
   "version": "3.11.6"
  }
 },
 "nbformat": 4,
 "nbformat_minor": 5
}
