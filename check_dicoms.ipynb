{
 "cells": [
  {
   "cell_type": "code",
   "execution_count": 8,
   "id": "f0f10c60-2ebb-4d62-9717-252a2ff5c3f6",
   "metadata": {},
   "outputs": [],
   "source": [
    "import os\n",
    "import json\n",
    "import argparse\n",
    "\n",
    "import pydicom as dcm"
   ]
  },
  {
   "cell_type": "code",
   "execution_count": 1,
   "id": "cf28b793-6990-4978-880d-069250557b22",
   "metadata": {},
   "outputs": [],
   "source": [
    "def check_dicoms(session_path, dicom_field_config):\n",
    "    print(f'Checking {session_path} for DICOMs...')\n",
    "    # Load scrub field configurations from JSON file\n",
    "    with open(dicom_field_config, 'r') as json_file:\n",
    "        scrub_field_dict = json.load(json_file)\n",
    "\n",
    "    dicom_output_dict = {}\n",
    "    for field_name, field_tag in scrub_field_dict.items():\n",
    "        dicom_output_dict[field_name] = set()\n",
    "\n",
    "    num_dicoms = 0\n",
    "    # Iterate through all files and subdirectories within the session path\n",
    "    for path, subdirs, files in os.walk(session_path):\n",
    "        # Iterate through files ending with '.dcm'\n",
    "        for file in [dicom for dicom in files if dicom.endswith('.dcm')]:\n",
    "            num_dicoms += 1\n",
    "            # Read DICOM file\n",
    "            dicom_data = dcm.dcmread(os.path.join(path, file))\n",
    "            # Iterate through fields in the scrub_field_dict and print values\n",
    "            for field_name, field_tag in scrub_field_dict.items():\n",
    "                # Convert hexadecimal values to integers\n",
    "                x, y = map(lambda val: int(val, base=16), field_tag.split(\",\"))\n",
    "                # Check if field exists in DICOM data\n",
    "                if (x, y) in dicom_data:\n",
    "                    # Obtain the field value:\n",
    "                    dicom_output_dict[field_name].add(dicom_data[(x, y)].value)\n",
    "\n",
    "    print(f'{num_dicoms} DICOMs found: \\n')\n",
    "    for field_name, value_list in dicom_output_dict.items():\n",
    "        field_vals = str(list(value_list))\n",
    "        print(f'{field_name}: {field_vals}')"
   ]
  },
  {
   "cell_type": "code",
   "execution_count": null,
   "id": "ec11eb10-5aa6-432a-bb1c-319b415a1cf7",
   "metadata": {},
   "outputs": [],
   "source": [
    "if __name__ == \"__main__\":\n",
    "\n",
    "    parser = argparse.ArgumentParser(description='Check DICOM fields.')\n",
    "    parser.add_argument('-p', '--session_directory', default='.', help='Path to the session directory containing DICOM files')\n",
    "    parser.add_argument('-c', '--dicom_field_config', default='./scrub_fields.json', help='Path to the JSON file containing DICOM field configurations')\n",
    "\n",
    "    # Parse arguments\n",
    "    args = parser.parse_args()\n",
    "\n",
    "    # Extract arguments\n",
    "    session_directory = args.session_directory\n",
    "    dicom_field_config = args.dicom_field_config\n",
    "\n",
    "    check_dicoms(session_directory, dicom_field_config)"
   ]
  }
 ],
 "metadata": {
  "kernelspec": {
   "display_name": "Python 3",
   "language": "python",
   "name": "python3"
  },
  "language_info": {
   "codemirror_mode": {
    "name": "ipython",
    "version": 3
   },
   "file_extension": ".py",
   "mimetype": "text/x-python",
   "name": "python",
   "nbconvert_exporter": "python",
   "pygments_lexer": "ipython3",
   "version": "3.11.6"
  }
 },
 "nbformat": 4,
 "nbformat_minor": 5
}
